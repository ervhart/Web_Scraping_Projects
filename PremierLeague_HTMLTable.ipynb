{
 "cells": [
  {
   "cell_type": "code",
   "execution_count": 1,
   "id": "0f1e6761",
   "metadata": {},
   "outputs": [],
   "source": [
    "import requests\n",
    "from bs4 import BeautifulSoup"
   ]
  },
  {
   "cell_type": "code",
   "execution_count": 2,
   "id": "7d734422",
   "metadata": {},
   "outputs": [],
   "source": [
    "r = requests.get('https://www.skysports.com/premier-league-table')"
   ]
  },
  {
   "cell_type": "code",
   "execution_count": 3,
   "id": "6a1cba72",
   "metadata": {},
   "outputs": [],
   "source": [
    "soup = BeautifulSoup(r.text, 'html.parser')"
   ]
  },
  {
   "cell_type": "code",
   "execution_count": 4,
   "id": "e0549772",
   "metadata": {},
   "outputs": [
    {
     "data": {
      "text/plain": [
       "True"
      ]
     },
     "execution_count": 4,
     "metadata": {},
     "output_type": "execute_result"
    }
   ],
   "source": [
    "r.ok"
   ]
  },
  {
   "cell_type": "code",
   "execution_count": 5,
   "id": "04689ebe",
   "metadata": {},
   "outputs": [
    {
     "data": {
      "text/plain": [
       "200"
      ]
     },
     "execution_count": 5,
     "metadata": {},
     "output_type": "execute_result"
    }
   ],
   "source": [
    "r.status_code"
   ]
  },
  {
   "cell_type": "code",
   "execution_count": 7,
   "id": "dff33bec",
   "metadata": {},
   "outputs": [],
   "source": [
    "league_table = soup.find('table', class_ = 'standing-table__table callfn')"
   ]
  },
  {
   "cell_type": "code",
   "execution_count": 8,
   "id": "cdbbde86",
   "metadata": {},
   "outputs": [
    {
     "name": "stdout",
     "output_type": "stream",
     "text": [
      "Chelsea 7 5 1 1 15 3 12 16\n",
      "Liverpool 7 4 3 0 17 6 11 15\n",
      "Manchester City 7 4 2 1 14 3 11 14\n",
      "Manchester United 7 4 2 1 14 6 8 14\n",
      "Everton 7 4 2 1 13 8 5 14\n",
      "Brighton and Hove Albion 7 4 2 1 8 5 3 14\n",
      "Brentford 7 3 3 1 10 6 4 12\n",
      "Tottenham Hotspur 7 4 0 3 6 10 -4 12\n",
      "West Ham United 7 3 2 2 14 10 4 11\n",
      "Aston Villa 7 3 1 3 10 9 1 10\n",
      "Arsenal 7 3 1 3 5 10 -5 10\n",
      "Wolverhampton Wanderers 7 3 0 4 5 6 -1 9\n",
      "Leicester City 7 2 2 3 9 12 -3 8\n",
      "Crystal Palace 7 1 4 2 8 11 -3 7\n",
      "Watford 7 2 1 4 7 10 -3 7\n",
      "Leeds United 7 1 3 3 7 14 -7 6\n",
      "Southampton 7 0 4 3 5 10 -5 4\n",
      "Burnley 7 0 3 4 5 11 -6 3\n",
      "Newcastle United 7 0 3 4 8 16 -8 3\n",
      "Norwich City 7 0 1 6 2 16 -14 1\n"
     ]
    }
   ],
   "source": [
    "for team in league_table.find_all('tbody'):\n",
    "    rows = team.find_all('tr')\n",
    "    for row in rows:\n",
    "        pl_team = row.find('td', class_ ='standing-table__cell standing-table__cell--name')\n",
    "        pl_team = pl_team['data-long-name']\n",
    "        played = row.find_all('td', class_ = 'standing-table__cell')[2].text\n",
    "        won = row.find_all('td', class_ = 'standing-table__cell')[3].text\n",
    "        drawn = row.find_all('td', class_ = 'standing-table__cell')[4].text\n",
    "        lost = row.find_all('td', class_ = 'standing-table__cell')[5].text\n",
    "        gf = row.find_all('td', class_ = 'standing-table__cell')[6].text\n",
    "        ga = row.find_all('td', class_ = 'standing-table__cell')[7].text\n",
    "        gd = row.find_all('td', class_ = 'standing-table__cell')[8].text\n",
    "        points = row.find_all('td', class_ = 'standing-table__cell')[9].text\n",
    "        print(pl_team, played, won, drawn, lost, gf, ga, gd, points)"
   ]
  },
  {
   "cell_type": "code",
   "execution_count": null,
   "id": "c266240e",
   "metadata": {},
   "outputs": [],
   "source": []
  }
 ],
 "metadata": {
  "kernelspec": {
   "display_name": "Python 3",
   "language": "python",
   "name": "python3"
  },
  "language_info": {
   "codemirror_mode": {
    "name": "ipython",
    "version": 3
   },
   "file_extension": ".py",
   "mimetype": "text/x-python",
   "name": "python",
   "nbconvert_exporter": "python",
   "pygments_lexer": "ipython3",
   "version": "3.8.8"
  }
 },
 "nbformat": 4,
 "nbformat_minor": 5
}
